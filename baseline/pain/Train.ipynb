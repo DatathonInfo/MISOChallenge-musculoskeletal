{
 "cells": [
  {
   "cell_type": "code",
   "execution_count": null,
   "metadata": {
    "ExecuteTime": {
     "end_time": "2021-11-11T09:04:11.218899Z",
     "start_time": "2021-11-11T09:04:11.198611Z"
    }
   },
   "outputs": [],
   "source": [
    "import os \n",
    "import numpy as np\n",
    "import pandas as pd\n",
    "from PIL import Image\n",
    "import tensorflow as tf\n",
    "import matplotlib.pyplot as plt\n",
    "\n",
    "from tensorflow import keras\n",
    "from tensorflow.keras.layers import *\n",
    "from tensorflow.keras import backend as K\n",
    "from tensorflow.keras.optimizers import *\n",
    "from tensorflow.keras.callbacks import ModelCheckpoint, EarlyStopping,ReduceLROnPlateau\n",
    "from tensorflow.python.keras.layers.normalization import BatchNormalization\n",
    "from tensorflow.python.keras.models import *\n",
    "\n",
    "from tensorflow.python.keras.utils.generic_utils import get_custom_objects\n",
    "\n",
    "os.environ[\"CUDA_VISIBLE_DEVICES\"]=\"0\"\n",
    "\n",
    "\n",
    "# Settings\n",
    "INPUT_SHAPE = (512, 512, 1)\n",
    "OUTPUT_SIZE = 16\n",
    "\n",
    "\n",
    "# Create Model\n",
    "def landmark_cnn(input_shape=INPUT_SHAPE, output_size=OUTPUT_SIZE):\n",
    "\n",
    "    img_input = Input(shape=input_shape)\n",
    "    \n",
    "\n",
    "    x = Conv2D(16, (3,3), strides=(1,1), name='Conv1')(img_input)\n",
    "    x = BatchNormalization()(x)\n",
    "    x = Activation('relu', name='Relu_conv1')(x)\n",
    "    \n",
    "    x = MaxPooling2D(pool_size=(2,2), strides=(2,2), name='Pool1')(x)\n",
    "\n",
    "\n",
    "    x = Conv2D(32, (3,3), strides=(1,1), name='Conv2')(x)\n",
    "    x = BatchNormalization()(x)\n",
    "    x = Activation('relu', name='Relu_conv2')(x)\n",
    "    \n",
    "    x = Conv2D(64, (3,3), strides=(1,1), name='Conv3')(x)\n",
    "    x = BatchNormalization()(x)\n",
    "    x = Activation('relu', name='Relu_conv3')(x)\n",
    "    \n",
    "    x = MaxPooling2D(pool_size=(2,2), strides=(2,2), name='Pool2')(x)\n",
    "\n",
    "\n",
    "    x = Conv2D(32, (3,3), strides=(1,1), name='Conv4')(x)\n",
    "    x = BatchNormalization()(x)\n",
    "    x = Activation('relu', name='Relu_conv4')(x)\n",
    "    \n",
    "    x = Conv2D(32, (3,3), strides=(1,1), name='Conv5')(x)\n",
    "    x = BatchNormalization()(x)\n",
    "    x = Activation('relu', name='Relu_conv5')(x)\n",
    "    \n",
    "    x = MaxPooling2D(pool_size=(2,2), strides=(2,2), name='Pool3')(x)\n",
    "        \n",
    "\n",
    "    x = Conv2D(64, (3,3), strides=(1,1), name='Conv6')(x)\n",
    "    x = BatchNormalization()(x)\n",
    "    x = Activation('relu', name='Relu_conv6')(x)\n",
    "    \n",
    "    x = Dropout(0.2)(x)\n",
    "    \n",
    "    x = Flatten(name='Flatten')(x)\n",
    "    x = Dense(128, activation='relu', name='FC1')(x)\n",
    "    x = Dense(output_size, activation=None, name='Predictions')(x)\n",
    "    \n",
    "    \n",
    "    model = Model([img_input], x, name='Landmark_model')\n",
    "    \n",
    "    return model\n",
    "\n",
    "# Load Data\n",
    "image_array = np.load('../dataset/image.npy')\n",
    "label_array = np.load('../dataset/label.npy').reshape(-1, 16)\n",
    "test_image_array = np.load('../dataset/test_image.npy')\n",
    "test_label_array = np.load('../dataset/test_label.npy').reshape(-1, 16)\n",
    "\n",
    "# Normalization\n",
    "X_train = image_array[:180] / 255\n",
    "y_train = label_array[:180] / 512\n",
    "\n",
    "X_valid = image_array[180:240] / 255\n",
    "y_valid = label_array[180:240] / 512\n",
    "\n",
    "X_test = test_image_array[:] / 255\n",
    "y_test = test_label_array[:] / 512\n",
    "\n",
    "\n",
    "# Model\n",
    "model = landmark_cnn()\n",
    "model.compile( loss=tf.keras.losses.mean_squared_error , optimizer=tf.keras.optimizers.Adam( lr=0.0001 ) , metrics=[ 'mse' ] )\n",
    "\n",
    "\n",
    "# Call Back\n",
    "monitor = 'val_loss'\n",
    "\n",
    "reduce_lr = ReduceLROnPlateau(monitor=monitor, factor=0.1, patience=10, min_lr=0.0000001,verbose=1)\n",
    "earlystopper = EarlyStopping(monitor=monitor, patience=50, verbose=1)\n",
    "model_checkpoint = ModelCheckpoint(filepath = '../result/model_save/landmark_model_1.h5', verbose=1, save_best_only=True)\n",
    "\n",
    "callbacks_list = [reduce_lr, model_checkpoint, earlystopper]\n",
    "\n",
    "\n",
    "# Train\n",
    "history = model.fit(X_train, y_train, batch_size=20, epochs=1000, shuffle=True, verbose=1, \n",
    "                    validation_data=(X_test, y_test), callbacks=callbacks_list)\n",
    "\n",
    "\n",
    "# Predict\n",
    "pred = model.predict(X_test)\n",
    "\n",
    "# Save Prediction\n",
    "np.save('../result/predict/predict.npy', pred)"
   ]
  },
  {
   "cell_type": "code",
   "execution_count": null,
   "metadata": {
    "ExecuteTime": {
     "end_time": "2021-11-12T08:57:33.678714Z",
     "start_time": "2021-11-12T08:57:33.665275Z"
    }
   },
   "outputs": [],
   "source": [
    "pred[0]"
   ]
  },
  {
   "cell_type": "code",
   "execution_count": null,
   "metadata": {
    "ExecuteTime": {
     "end_time": "2021-11-12T08:57:34.201212Z",
     "start_time": "2021-11-12T08:57:34.195331Z"
    }
   },
   "outputs": [],
   "source": [
    "y_test[0]"
   ]
  }
 ],
 "metadata": {
  "kernelspec": {
   "display_name": "Python 3",
   "language": "python",
   "name": "python3"
  },
  "language_info": {
   "codemirror_mode": {
    "name": "ipython",
    "version": 3
   },
   "file_extension": ".py",
   "mimetype": "text/x-python",
   "name": "python",
   "nbconvert_exporter": "python",
   "pygments_lexer": "ipython3",
   "version": "3.7.6"
  },
  "toc": {
   "base_numbering": 1,
   "nav_menu": {},
   "number_sections": true,
   "sideBar": true,
   "skip_h1_title": false,
   "title_cell": "Table of Contents",
   "title_sidebar": "Contents",
   "toc_cell": false,
   "toc_position": {},
   "toc_section_display": true,
   "toc_window_display": false
  },
  "varInspector": {
   "cols": {
    "lenName": 16,
    "lenType": 16,
    "lenVar": 40
   },
   "kernels_config": {
    "python": {
     "delete_cmd_postfix": "",
     "delete_cmd_prefix": "del ",
     "library": "var_list.py",
     "varRefreshCmd": "print(var_dic_list())"
    },
    "r": {
     "delete_cmd_postfix": ") ",
     "delete_cmd_prefix": "rm(",
     "library": "var_list.r",
     "varRefreshCmd": "cat(var_dic_list()) "
    }
   },
   "types_to_exclude": [
    "module",
    "function",
    "builtin_function_or_method",
    "instance",
    "_Feature"
   ],
   "window_display": true
  }
 },
 "nbformat": 4,
 "nbformat_minor": 5
}
